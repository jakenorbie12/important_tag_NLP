{
 "cells": [
  {
   "cell_type": "code",
   "execution_count": 7,
   "metadata": {},
   "outputs": [
    {
     "name": "stdout",
     "output_type": "stream",
     "text": [
      "Enter the name of the file: Dataset_08-29-2019.txt\n"
     ]
    }
   ],
   "source": [
    "import pandas as pd\n",
    "import numpy as np\n",
    "import lightgbm as lgb\n",
    "df_name = input(\"Enter the name of the file: \")\n",
    "df = pd.read_csv(df_name, sep='\\t', encoding='unicode_escape')\n",
    "df_new = df.copy()\n",
    "# Dataset_08-29-2019.txt"
   ]
  },
  {
   "cell_type": "code",
   "execution_count": 8,
   "metadata": {},
   "outputs": [],
   "source": [
    "#Functions shell\n",
    "\n",
    "def otherCap(x):\n",
    "    for letter in x:\n",
    "        if letter.isupper():\n",
    "            return 1\n",
    "    return 0\n",
    "\n",
    "def propVow(x):\n",
    "    vowels = 'aeiouAEIOU'\n",
    "    numVow = 0\n",
    "    for letter in x:\n",
    "        if letter in vowels:\n",
    "            numVow += 1\n",
    "    return numVow / len(x)\n",
    "\n",
    "word_array = df.Word.unique().tolist()\n",
    "\n",
    "def frontWord(x):\n",
    "    if x > 0:\n",
    "        return word_array.index(df['Word'][x-1])\n",
    "    else:\n",
    "        return\n",
    "def backWord(x):\n",
    "    if x < len(df.index) - 1:\n",
    "        return word_array.index(df['Word'][x+1])\n",
    "    else:\n",
    "        return\n",
    "\n",
    "tagArray = df.Tag.unique().tolist()\n",
    "def Tag2Num(x):\n",
    "    return tagArray.index(x)"
   ]
  },
  {
   "cell_type": "code",
   "execution_count": 9,
   "metadata": {},
   "outputs": [],
   "source": [
    "df['isFirstCap'] = df['Word'].apply(lambda x: 1 if x[0].isupper() else 0)\n",
    "\n",
    "df['Length'] = df['Word'].apply(lambda x: len(x))\n",
    "\n",
    "df['endY'] = df['Word'].apply(lambda x: 1 if x[-1] == 'y' else 0)\n",
    "\n",
    "df['isNNP'] = df['POS'].apply(lambda x: 1 if x == 'NNP' else 0)\n",
    "\n",
    "df['isJJ'] = df['POS'].apply(lambda x: 1 if x == 'JJ' else 0)\n",
    "\n",
    "df['isCD'] = df['POS'].apply(lambda x: 1 if x == 'CD' else 0)\n",
    "\n",
    "df['otherCap'] = df['Word'].apply(lambda x: otherCap(x))\n",
    "\n",
    "df['endan'] = df['Word'].apply(lambda x: 1 if x[-2:len(x)] == 'an' else 0)\n",
    "\n",
    "df['isNum'] = df['Word'].apply(lambda x: 1 if x.isnumeric() else 0)\n",
    "\n",
    "df['endS'] = df['Word'].apply(lambda x: 1 if x[-1] == 's' else 0)\n",
    "\n",
    "df['endish'] = df['Word'].apply(lambda x: 1 if x[-3:len(x)] == 'ish' else 0)\n",
    "\n",
    "df['endese'] = df['Word'].apply(lambda x: 1 if x[-3:len(x)] == 'ese' else 0)\n",
    "\n",
    "df['propVow'] = df['Word'].apply(lambda x: propVow(x))\n",
    "\n",
    "df['frontWord'] = df['Unnamed: 0'].apply(lambda x: frontWord(x))\n",
    "\n",
    "df['backWord'] = df['Unnamed: 0'].apply(lambda x: backWord(x))"
   ]
  },
  {
   "cell_type": "code",
   "execution_count": 10,
   "metadata": {
    "scrolled": true
   },
   "outputs": [],
   "source": [
    "data_test = df[['isFirstCap', 'Length', 'endY', 'isNNP', 'isJJ', 'isCD', 'otherCap', 'endan',\n",
    "           'isNum', 'endS', 'endish', 'endese', 'propVow', 'frontWord', 'backWord']].values\n",
    "light_model = lgb.Booster(model_file = 'model.txt')\n",
    "y_pred = light_model.predict(data_test)\n",
    "y_hat = [np.argmax(line) for line in y_pred]\n",
    "df_new['Tag'] = y_hat\n",
    "#Sets the name for the new file\n",
    "new_name = 'New_Data.csv'\n",
    "df_new['Tag'] = y_hat\n",
    "df_new.to_csv(new_name, encoding = 'unicode-escape')"
   ]
  },
  {
   "cell_type": "code",
   "execution_count": null,
   "metadata": {},
   "outputs": [],
   "source": []
  }
 ],
 "metadata": {
  "kernelspec": {
   "display_name": "Python 3",
   "language": "python",
   "name": "python3"
  },
  "language_info": {
   "codemirror_mode": {
    "name": "ipython",
    "version": 3
   },
   "file_extension": ".py",
   "mimetype": "text/x-python",
   "name": "python",
   "nbconvert_exporter": "python",
   "pygments_lexer": "ipython3",
   "version": "3.7.6"
  }
 },
 "nbformat": 4,
 "nbformat_minor": 4
}
